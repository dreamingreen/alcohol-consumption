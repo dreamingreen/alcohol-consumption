{
  "nbformat": 4,
  "nbformat_minor": 0,
  "metadata": {
    "colab": {
      "name": "Alcohol consumption-students.ipynb",
      "provenance": [],
      "authorship_tag": "ABX9TyMu8lLrx9zpeuJb9NvieFz/"
    },
    "kernelspec": {
      "name": "ir",
      "display_name": "R"
    }
  },
  "cells": [
    {
      "cell_type": "markdown",
      "metadata": {
        "id": "Nl8s02bIulkv"
      },
      "source": [
        "I used a dataset about student's alcohol consumption\n",
        "I chose the math table\n",
        "The explanations of the abreviations of each variable are on this page\n",
        "https://www.kaggle.com/uciml/student-alcohol-consumption\n",
        "\n",
        "\n",
        "Since I thought this was good quality data, it's best to use the whole dataset. I tested 7 types of classifiers.\n",
        "\n",
        "I combined two variables of alcohol consumption during the whole week for students (weekend+workday). These variables are Walc=weekend alcohol and Dalc=workday alcohol. I transformed the pred class to values of 0 and 1\n",
        "By reading the page on Kaggle, for one var of alcohol consumption (Walc OR Dalc), 4 or 5 is high or very high.\n",
        "1: I chose that high consumption of alcohol was equal to or higher than 7 (Walc+Dalc) \n",
        "0: consumption of alcohol was lower than 7 (Walc+Dalc)\n",
        "\n",
        "The verification of the best algorithm was verified through the confusion matrix, but I especially looked at the accuracy score."
      ]
    },
    {
      "cell_type": "code",
      "metadata": {
        "id": "oOuRNR6-ug4y"
      },
      "source": [
        "# Loading the packages\n",
        "\n",
        "install.packages('tidyverse')\n",
        "install.packages('data.table')\n",
        "install.packages('rpart')\n",
        "install.packages('rpart.plot')\n",
        "install.packages('tree')\n",
        "install.packages('forestmangr')\n",
        "install.packages('caret')\n",
        "install.packages('e1071')\n",
        "install.packages('ggplot2')\n",
        "install.packages('ROCR')\n",
        "install.packages('lattice')\n",
        "\n",
        "rm(list=ls())\n",
        "\n",
        "library(tidyverse)\n",
        "library(data.table)\n",
        "library(rpart)\n",
        "library(rpart.plot)\n",
        "library(tree)\n",
        "library(forestmangr)\n",
        "library(caret)\n",
        "library(e1071)\n",
        "library(nnet) \n",
        "library(ggplot2)\n",
        "library(ROCR)\n",
        "library(lattice);\n",
        "library(latticeExtra);"
      ],
      "execution_count": null,
      "outputs": []
    },
    {
      "cell_type": "code",
      "metadata": {
        "id": "GR96Yjy3vGTH"
      },
      "source": [
        "# Loading the dataset\n",
        "#setwd(dir = \"/Users/ellie/Documents/Cog-M1/big data\")\n",
        "Table<- read.csv('student-mat.csv')"
      ],
      "execution_count": null,
      "outputs": []
    },
    {
      "cell_type": "code",
      "metadata": {
        "id": "tPqO9J66vMYt"
      },
      "source": [
        "# Averaging the grades to get one parameter and not 3 :\n",
        "Col_grades <- (Table$G1 + Table$G2 + Table$G3)/3\n",
        "Table$Grades <- cbind(Col_grades)\n",
        "Table <- subset(Table,select=-G1)\n",
        "Table <- subset(Table,select=-G2)\n",
        "Table <- subset(Table,select=-G3)\n",
        "\n",
        "# Summing workday and weekend alcohol consumption :\n",
        "Col_alc <- Table$Walc + Table$Dalc\n",
        "Table$Alcohol <- cbind(Col_alc)\n",
        "Table <- subset(Table,select=-Walc)\n",
        "Table <- subset(Table,select=-Dalc)\n"
      ],
      "execution_count": null,
      "outputs": []
    },
    {
      "cell_type": "code",
      "metadata": {
        "id": "GljklEDzvcaE"
      },
      "source": [
        "#Transforming into binary values (high=1 vs moderate/low=0 consumption)\n",
        "#Replacing the high values of consumption (>=7) by 1 and the lower than 7 by 0.\n",
        "Table$Alcohol[Table$Alcohol<7] <- 0\n",
        "Table$Alcohol[Table$Alcohol>=7] <- 1\n",
        "View(Table)"
      ],
      "execution_count": null,
      "outputs": []
    },
    {
      "cell_type": "code",
      "metadata": {
        "id": "_4uEEMjvvfN8"
      },
      "source": [
        "# Showing the summary and number of high and moderate/low\n",
        "table(Table$Alcohol)\n",
        "summary(Table$Alcohol)\n",
        "sapply(Table, class)\n",
        "dim(Table)\n",
        "pie(table(Table$Alcohol), main=\"Class repartition\")"
      ],
      "execution_count": null,
      "outputs": []
    },
    {
      "cell_type": "code",
      "metadata": {
        "id": "M0ETSZAUviaz"
      },
      "source": [
        "#Shuffling the dataset\n",
        "Table1 <- Table[sample(nrow(Table)),]\n",
        "\n",
        "# Seperating into training and testing\n",
        "training.samples <- Table1$Alcohol %>% createDataPartition(p = 0.75, list = FALSE)\n",
        "t_train  <- Table1[training.samples, ]\n",
        "t_test <- Table1[-training.samples, ]\n",
        "dim(t_train)\n",
        "dim(t_test)"
      ],
      "execution_count": null,
      "outputs": []
    },
    {
      "cell_type": "markdown",
      "metadata": {
        "id": "eqZEI_ZSvuuk"
      },
      "source": [
        "I'll first build tree type of model to see the variables that we can plot later on"
      ]
    },
    {
      "cell_type": "code",
      "metadata": {
        "id": "9WQD6MukvlUy"
      },
      "source": [
        "# Build the models\n",
        "# Creating and visualizing tree1 with tree\n",
        "tree1 <- tree(Alcohol ~., data = t_train)\n",
        "plot(tree1)\n",
        "text(tree1, pretty=0)"
      ],
      "execution_count": null,
      "outputs": []
    },
    {
      "cell_type": "code",
      "metadata": {
        "id": "3Hj1Y0DEvlX3"
      },
      "source": [
        "# Creating and visualizing tree2 with rpart tree\n",
        "tree2 <- rpart(Alcohol~., t_train)\n",
        "prp(tree2, type=4, extra=0, box.col=c(\"orange\",\"skyblue\",\"pink\",\"grey\")[tree2$frame$yval])"
      ],
      "execution_count": null,
      "outputs": []
    },
    {
      "cell_type": "code",
      "metadata": {
        "id": "y6R7xD-4vla-"
      },
      "source": [
        "# Applying the tree model on t_test\n",
        "test_tree1 <- predict(tree1, t_test, probability=TRUE)\n",
        "test_tree2 <- predict(tree2, t_test, probability=TRUE)\n",
        "#predicted\n",
        "test_tree1 <- data.frame(test_tree1)\n",
        "test_tree2 <- data.frame(test_tree2)\n",
        "#reference\n",
        "Col_alc_test <- data.frame(t_test$Alcohol)\n",
        "\n",
        "# Rounding the values of the predicted data to get 0 or 1\n",
        "test_tree1 <- round_df(test_tree1, digits=0)\n",
        "data_tree1 <- data.frame(Col_alc_test, test_tree1)\n",
        "test_tree2 <- round_df(test_tree2, digits=0)\n",
        "data_tree2 <- data.frame(Col_alc_test, test_tree2)"
      ],
      "execution_count": null,
      "outputs": []
    },
    {
      "cell_type": "code",
      "metadata": {
        "id": "KvLjb1U1vleR"
      },
      "source": [
        "#Confusion matrix of tree and rpart\n",
        "table(data_tree1)\n",
        "table(data_tree2)"
      ],
      "execution_count": null,
      "outputs": []
    },
    {
      "cell_type": "markdown",
      "metadata": {
        "id": "ABDp-myZwTbi"
      },
      "source": [
        "Let's plot the variables of the trees to see how visually correlated they are to alcohol consumption\n",
        "They seem to be (in both trees): the sex, the going out degree and the number of absences."
      ]
    },
    {
      "cell_type": "code",
      "metadata": {
        "id": "N8CCydL4wVDV"
      },
      "source": [
        "# Quick plotting using the data of the tree classifier\n",
        "boxplot(Table$goout~Table$Alcohol, data=Table,col=c(\"tomato\",\"darkturquoise\"), \n",
        "        main=\"Alcohol according to going out degree\",xlab=\"Alcohol consumption\",ylab=\"Going out degree\")"
      ],
      "execution_count": null,
      "outputs": []
    },
    {
      "cell_type": "markdown",
      "metadata": {
        "id": "rWwLRmGawkmM"
      },
      "source": [
        "-> There's definitely a link between going out and high alcohol consumption"
      ]
    },
    {
      "cell_type": "code",
      "metadata": {
        "id": "M8Z2ZP-xwcrD"
      },
      "source": [
        "qplot(Table$Alcohol, Table$goout, data=Table, color=Table$sex,\n",
        "      main=\"Alcohol consumption according to going out and Sex\",xlab=\"Alcohol consumption\",ylab=\"Going out degree\",)+geom_jitter(height=0.1)"
      ],
      "execution_count": null,
      "outputs": []
    },
    {
      "cell_type": "markdown",
      "metadata": {
        "id": "PfwLY_3iwom8"
      },
      "source": [
        "-> There's a lot more boys in the high alcohol consumption"
      ]
    },
    {
      "cell_type": "code",
      "metadata": {
        "id": "4NyPdIAHwcy6"
      },
      "source": [
        "qplot(Alcohol, goout, data=Table, \n",
        "      main=\"Going out degree according to alcohol consumption\", xlab=\"Alcohol consumption\", ylab=\"Go out degree\") + geom_smooth(method = \"lm\", formula=y~x)"
      ],
      "execution_count": null,
      "outputs": []
    },
    {
      "cell_type": "code",
      "metadata": {
        "id": "xnSYyK_pwc5l"
      },
      "source": [
        "qplot(Alcohol, absences, data=Table, \n",
        "      main=\"Number of absences according to alcohol consumption\", xlab=\"Alcohol consumption\", ylab=\"Nb of absences\") + geom_smooth(method = \"lm\", formula=y~x)"
      ],
      "execution_count": null,
      "outputs": []
    },
    {
      "cell_type": "markdown",
      "metadata": {
        "id": "V0oi7a8Nwxzr"
      },
      "source": [
        "On the tree, the second most predictable parameter with alcohol is the number of absences"
      ]
    },
    {
      "cell_type": "code",
      "metadata": {
        "id": "u00alo0EwwvM"
      },
      "source": [
        "qplot(Table$goout, Table$absences, data=Table, color=Table$Alcohol,\n",
        "      main=\"Alcohol consumption according to going out and Absences\",xlab=\"Go out degree\",ylab=\"Nb absences\",)+geom_jitter(height=2)"
      ],
      "execution_count": null,
      "outputs": []
    },
    {
      "cell_type": "markdown",
      "metadata": {
        "id": "vtQjm9DSw2Jc"
      },
      "source": [
        "-> Here we have a lot more students with high alcohol consumption if there's a lot of going out, the absence isn't visible."
      ]
    },
    {
      "cell_type": "code",
      "metadata": {
        "id": "i3lr6c5sxNG6"
      },
      "source": [
        "# Setting the reference\n",
        "reference <- t_test$Alcohol"
      ],
      "execution_count": null,
      "outputs": []
    },
    {
      "cell_type": "code",
      "metadata": {
        "id": "-Qe_k6IKxBJL"
      },
      "source": [
        "#10-fold cross validation\n",
        "train_control <- trainControl(method = \"cv\", number = 10)\n",
        "metric <- \"Accuracy\""
      ],
      "execution_count": null,
      "outputs": []
    },
    {
      "cell_type": "code",
      "metadata": {
        "id": "58AeXF0ixBwV"
      },
      "source": [
        "#TREE Model\n",
        "data_tree1 <- as.numeric(test_tree1>0.5)\n",
        "confusionMatrix(as.factor(data_tree1), as.factor(reference))"
      ],
      "execution_count": null,
      "outputs": []
    },
    {
      "cell_type": "code",
      "metadata": {
        "id": "940vInk5xBzx"
      },
      "source": [
        "#RPART Model (trained before plot)\n",
        "data_tree2 <- as.numeric(test_tree2>0.5)\n",
        "confusionMatrix(as.factor(data_tree2), as.factor(reference))"
      ],
      "execution_count": null,
      "outputs": []
    },
    {
      "cell_type": "code",
      "metadata": {
        "id": "0uh3ubdgxB6X"
      },
      "source": [
        "# GLM Model\n",
        "model_glm <- glm(t_train$Alcohol~.,data=t_train, family=binomial(link=\"logit\"))\n",
        "test_glm <- predict(model_glm, t_test, type = \"response\")\n",
        "data_glm = as.numeric(test_glm>0.5)\n",
        "confusionMatrix(as.factor(data_glm), as.factor(reference))"
      ],
      "execution_count": null,
      "outputs": []
    },
    {
      "cell_type": "code",
      "metadata": {
        "id": "IZNO5HvUxB-P"
      },
      "source": [
        "# KNN Model\n",
        "model_knn <- train(Alcohol~., data=t_train, method=\"knn\", trControl=train_control)\n",
        "test_knn <- predict(model_knn, t_test, type = \"raw\")\n",
        "data_knn = as.numeric(test_knn>0.5)\n",
        "confusionMatrix(as.factor(data_knn), as.factor(reference))"
      ],
      "execution_count": null,
      "outputs": []
    },
    {
      "cell_type": "code",
      "metadata": {
        "id": "nr9nnGhWxCC3"
      },
      "source": [
        "# SVM Model\n",
        "model_svm <- svm(Alcohol~., data=t_train, method = 'svm',\n",
        "                 trControl = train_control)\n",
        "test_svm <- predict(model_svm, t_test, type = \"raw\")\n",
        "data_svm <- as.numeric(test_svm>0.5)\n",
        "cm_svm <- confusionMatrix(as.factor(data_svm), as.factor(reference))\n",
        "print(cm_svm)"
      ],
      "execution_count": null,
      "outputs": []
    },
    {
      "cell_type": "code",
      "metadata": {
        "id": "QQeq2mZxxCI1"
      },
      "source": [
        "# NNET Model\n",
        "model_nnet <- nnet(Alcohol ~ ., data=t_train, size=2)\n",
        "test_nnet <- predict(model_nnet, t_test, type = \"raw\")\n",
        "data_nnet <- as.numeric(test_nnet>0.5)\n",
        "confusionMatrix(as.factor(data_nnet), as.factor(reference))"
      ],
      "execution_count": null,
      "outputs": []
    },
    {
      "cell_type": "code",
      "metadata": {
        "id": "8TvaSGTPxCMZ"
      },
      "source": [
        "# Random forest Model\n",
        "model_rf <- train(Alcohol~., data=t_train, method=\"rf\", trControl=train_control)\n",
        "test_rf <- predict(model_rf, t_test, type = \"raw\")\n",
        "data_rf <- as.numeric(test_rf>0.5)\n",
        "confusionMatrix(as.factor(data_rf), as.factor(reference))"
      ],
      "execution_count": null,
      "outputs": []
    },
    {
      "cell_type": "markdown",
      "metadata": {
        "id": "78QU62Y5xiFB"
      },
      "source": [
        "ACCURACY FOR EACH CLASSIFIER\n",
        "\n",
        "Tree: .8571\n",
        "\n",
        "Rpart: .8673\n",
        "\n",
        "GLM: .8878\n",
        "\n",
        "KNN: .9184\n",
        "\n",
        "SVM: .9184\n",
        "\n",
        "Nnet: .9184\n",
        "\n",
        "RF: .9082\n",
        "\n",
        "\n",
        "=> NNET, SVM and KNN predicted all values as 0 and got the best accuracy score"
      ]
    },
    {
      "cell_type": "markdown",
      "metadata": {
        "id": "cSsyBAxXx77e"
      },
      "source": [
        "----\n",
        "BONUS : Testing one of the best classifier to other methods of cross validation\n"
      ]
    },
    {
      "cell_type": "code",
      "metadata": {
        "id": "9oPAJnHjxCQk"
      },
      "source": [
        "\n",
        "# Repeated 10 fold cross validation\n",
        "train_control1 <- trainControl(method = \"repeatedcv\", \n",
        "                              number = 10, repeats = 3)\n",
        "#re-training\n",
        "model_svm1 <- svm(Alcohol~., data=t_train, method = 'svm',\n",
        "                 trControl = train_control1)\n",
        "test_svm1 <- predict(model_svm1, t_test, type = \"raw\")\n",
        "data_svm1 <- as.numeric(test_svm1>0.5)\n",
        "cm_svm1<-confusionMatrix(as.factor(data_svm1), as.factor(reference))"
      ],
      "execution_count": null,
      "outputs": []
    },
    {
      "cell_type": "markdown",
      "metadata": {
        "id": "3AYiwKCDyWqy"
      },
      "source": [
        "=> This gives us the same exact result of accuracy \n",
        "But not the same result of confusion matrix !"
      ]
    },
    {
      "cell_type": "code",
      "metadata": {
        "id": "A2W2eUkiyVh3"
      },
      "source": [
        "cm_svm\n",
        "cm_svm1"
      ],
      "execution_count": null,
      "outputs": []
    },
    {
      "cell_type": "code",
      "metadata": {
        "id": "mn8VCs96xCUT"
      },
      "source": [
        "#Leave one out cross validation\n",
        "train_control2 <- trainControl(method = \"LOOCV\")\n",
        "#re-training\n",
        "model_svm2 <- svm(Alcohol~., data=t_train, method = 'svm',\n",
        "                 trControl = train_control2)\n",
        "test_svm2 <- predict(model_svm2, t_test, type = \"raw\")\n",
        "data_svm2 <- as.numeric(test_svm2>0.5)\n",
        "cm_svm2 <- confusionMatrix(as.factor(data_svm2), as.factor(reference))\n"
      ],
      "execution_count": null,
      "outputs": []
    },
    {
      "cell_type": "markdown",
      "metadata": {
        "id": "bTQYXgQiyPYS"
      },
      "source": [
        "Same results for this one too."
      ]
    },
    {
      "cell_type": "code",
      "metadata": {
        "id": "aaare9PYyO7H"
      },
      "source": [
        "cm_svm\n",
        "cm_svm1\n",
        "cm_svm2"
      ],
      "execution_count": null,
      "outputs": []
    },
    {
      "cell_type": "code",
      "metadata": {
        "id": "fKo12pwjxCGd"
      },
      "source": [
        "# Best models\n",
        "print(model_svm)\n",
        "print(model_nnet)\n",
        "print(model_knn)"
      ],
      "execution_count": null,
      "outputs": []
    }
  ]
}